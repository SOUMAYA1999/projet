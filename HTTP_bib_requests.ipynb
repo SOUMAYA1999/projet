{
  "nbformat": 4,
  "nbformat_minor": 0,
  "metadata": {
    "colab": {
      "provenance": [],
      "authorship_tag": "ABX9TyPuA4JOe/KcPryJSc+b7Z62",
      "include_colab_link": true
    },
    "kernelspec": {
      "name": "python3",
      "display_name": "Python 3"
    },
    "language_info": {
      "name": "python"
    }
  },
  "cells": [
    {
      "cell_type": "markdown",
      "metadata": {
        "id": "view-in-github",
        "colab_type": "text"
      },
      "source": [
        "<a href=\"https://colab.research.google.com/github/SOUMAYA1999/projet/blob/main/HTTP_bib_requests.ipynb\" target=\"_parent\"><img src=\"https://colab.research.google.com/assets/colab-badge.svg\" alt=\"Open In Colab\"/></a>"
      ]
    },
    {
      "cell_type": "code",
      "execution_count": null,
      "metadata": {
        "id": "W4qAXNp_oC-_"
      },
      "outputs": [],
      "source": []
    },
    {
      "cell_type": "markdown",
      "source": [
        "# **Introduction au protocole HTTP avec la bibliothèque requests**"
      ],
      "metadata": {
        "id": "mamjUVfWoir3"
      }
    },
    {
      "cell_type": "markdown",
      "source": [
        "Nous allons parler du protocole HTTP en utilisant la bibliothèque requests, une méthode populaire pour travailler avec le protocole HTTP en Python. Nous allons passer en revue cette bibliothèque qui permet de gérer facilement les requêtes HTTP/1.1.\n",
        "\n",
        "### **Qu'est-ce que le protocole HTTP ?**\n",
        "Le protocole HTTP (HyperText Transfer Protocol) est utilisé pour communiquer entre un client (comme un navigateur web) et un serveur (comme un site web). Il est à la base du fonctionnement du web, permettant l'échange de données entre le client et le serveur.\n",
        "\n",
        "### **Pourquoi utiliser la bibliothèque requests ?**\n",
        "La bibliothèque requests simplifie l'envoi de requêtes HTTP à un serveur et la réception des réponses. Elle est très populaire car elle permet de travailler avec le protocole HTTP de manière intuitive et facile à comprendre.\n",
        "\n",
        "### **Types de requêtes HTTP : GET et POST\n",
        "Il existe plusieurs types de requêtes HTTP, mais les deux plus courantes sont :\n",
        "\n",
        "* Requête GET : Utilisée pour récupérer des données à partir d'un serveur. Par exemple, lorsque vous accédez à une page web, votre navigateur effectue une requête GET pour obtenir le contenu de la page.\n",
        "\n",
        " Exemple :"
      ],
      "metadata": {
        "id": "hupmTssCoq7i"
      }
    },
    {
      "cell_type": "code",
      "source": [
        "import requests\n",
        "\n",
        "# Effectuer une requête GET pour récupérer le contenu d'une page web\n",
        "response = requests.get('https://www.example.com')\n",
        "\n",
        "# Afficher le code de statut de la réponse\n",
        "print(response.status_code)  # 200 signifie que la requête a réussi\n",
        "\n",
        "# Afficher le contenu de la page\n",
        "print(response.text)"
      ],
      "metadata": {
        "id": "xfZMHOhZpBGV"
      },
      "execution_count": null,
      "outputs": []
    },
    {
      "cell_type": "markdown",
      "source": [
        "* **Requête POST :** Utilisée pour envoyer des données à un serveur. Par exemple, lorsque vous soumettez un formulaire sur un site web, une requête POST est généralement utilisée pour envoyer les données du formulaire au serveur.\n",
        "\n",
        " Exemple:\n"
      ],
      "metadata": {
        "id": "04ZiohrvpCFi"
      }
    },
    {
      "cell_type": "code",
      "source": [
        "import requests\n",
        "\n",
        "# Définir les données à envoyer\n",
        "data = {'name': 'John', 'age': 25}\n",
        "\n",
        "# Effectuer une requête POST pour envoyer les données\n",
        "response = requests.post('https://www.example.com/api', data=data)\n",
        "\n",
        "# Vérifier si la requête a été réussie\n",
        "if response.status_code == 200:\n",
        "    print('Data sent successfully')\n",
        "else:\n",
        "    print('Failed to send data')"
      ],
      "metadata": {
        "id": "TpiZ7pTopNtg"
      },
      "execution_count": null,
      "outputs": []
    },
    {
      "cell_type": "markdown",
      "source": [
        "### **Informations sur les requêtes et les réponses**\n",
        "Avec requests, vous pouvez également accéder à des informations détaillées sur la requête et la réponse, telles que :\n",
        "\n",
        "**Le code de statut ( *status code*) :**Indique si la requête a réussi (ex. : 200 pour succès, 404 pour page non trouvée).\n",
        "\n",
        "**Les en-têtes (*request headers*):**  Informations supplémentaires sur la requête ou la réponse (ex. : type de contenu).\n",
        "\n",
        "**Le corps de la réponse (*request body*):** Le contenu renvoyé par le serveur (ex. : le HTML d'une page web).\n",
        "\n",
        "Exemple :\n",
        "\n"
      ],
      "metadata": {
        "id": "OYxIlIPwpR_7"
      }
    },
    {
      "cell_type": "code",
      "source": [
        "import requests\n",
        "\n",
        "# Effectuer une requête GET\n",
        "response = requests.get('https://www.example.com')\n",
        "\n",
        "# Afficher les en-têtes de la réponse\n",
        "print(response.headers)\n",
        "\n",
        "# Afficher le contenu (corps) de la réponse\n",
        "print(response.content)"
      ],
      "metadata": {
        "id": "qG8-JuzwqhmH"
      },
      "execution_count": null,
      "outputs": []
    },
    {
      "cell_type": "markdown",
      "source": [],
      "metadata": {
        "id": "Iq_njnDVqjrw"
      }
    }
  ]
}