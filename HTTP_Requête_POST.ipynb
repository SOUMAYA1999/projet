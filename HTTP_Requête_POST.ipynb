{
  "nbformat": 4,
  "nbformat_minor": 0,
  "metadata": {
    "colab": {
      "provenance": [],
      "authorship_tag": "ABX9TyMaM7W1RFhZYEQutail+5jE",
      "include_colab_link": true
    },
    "kernelspec": {
      "name": "python3",
      "display_name": "Python 3"
    },
    "language_info": {
      "name": "python"
    }
  },
  "cells": [
    {
      "cell_type": "markdown",
      "metadata": {
        "id": "view-in-github",
        "colab_type": "text"
      },
      "source": [
        "<a href=\"https://colab.research.google.com/github/SOUMAYA1999/projet/blob/main/HTTP_Requ%C3%AAte_POST.ipynb\" target=\"_parent\"><img src=\"https://colab.research.google.com/assets/colab-badge.svg\" alt=\"Open In Colab\"/></a>"
      ]
    },
    {
      "cell_type": "code",
      "execution_count": null,
      "metadata": {
        "id": "JRGAYslPhcZj"
      },
      "outputs": [],
      "source": []
    },
    {
      "cell_type": "markdown",
      "source": [],
      "metadata": {
        "id": "8jKgOe5Wlc8S"
      }
    },
    {
      "cell_type": "markdown",
      "source": [
        "### Pour envoyer des données à un serveur en utilisant la bibliothèque requests, suivez les étapes ci-dessous :"
      ],
      "metadata": {
        "id": "Wj02r93whdma"
      }
    },
    {
      "cell_type": "markdown",
      "source": [
        "vous pouvez utiliser la bibliothèque requests pour envoyer des données à un serveur en utilisant des requêtes ***POST***."
      ],
      "metadata": {
        "id": "LPfiHWkBlNB_"
      }
    },
    {
      "cell_type": "markdown",
      "source": [],
      "metadata": {
        "id": "CCVDhkWnlM-a"
      }
    },
    {
      "cell_type": "markdown",
      "source": [
        "\n",
        "#### 1. Importez la bibliothèque requests dans votre code Python :"
      ],
      "metadata": {
        "id": "W6-aKperhq_5"
      }
    },
    {
      "cell_type": "code",
      "source": [
        "import requests\n"
      ],
      "metadata": {
        "id": "M5x1MbuXiLjd"
      },
      "execution_count": 1,
      "outputs": []
    },
    {
      "cell_type": "markdown",
      "source": [
        "#### 2. Définissez les données que vous souhaitez envoyer au serveur dans un dictionnaire:\n",
        "\n",
        "Par exemple, si vous souhaitez envoyer un nom et un âge, vous pouvez créer un dictionnaire comme ceci :"
      ],
      "metadata": {
        "id": "UQYxzzjGiZp2"
      }
    },
    {
      "cell_type": "code",
      "source": [
        "data = {\n",
        "    'name': 'John',\n",
        "    'age': 25\n",
        "}"
      ],
      "metadata": {
        "id": "DDigTartibXh"
      },
      "execution_count": null,
      "outputs": []
    },
    {
      "cell_type": "markdown",
      "source": [
        "### 3. Utilisez la méthode post() pour envoyer les données au serveur.\n",
        "\n",
        "Vous devez spécifier l'URL du serveur et les données à envoyer en utilisant le paramètre 'data'. Par exemple :"
      ],
      "metadata": {
        "id": "zvGYQ5osivvH"
      }
    },
    {
      "cell_type": "code",
      "source": [
        "response = requests.post('https://www.example.com/api', data=data)\n"
      ],
      "metadata": {
        "id": "cLHG_sMJi-4T"
      },
      "execution_count": null,
      "outputs": []
    },
    {
      "cell_type": "markdown",
      "source": [
        "### 4. Vérifiez le code de statut de la réponse pour vous assurer que la requête a été réussie:\n",
        "Un code de statut 200 signifie que la requête a été traitée avec succès. Par exemple :"
      ],
      "metadata": {
        "id": "pxKeGv7qk9QY"
      }
    },
    {
      "cell_type": "code",
      "source": [
        "if response.status_code == 200:\n",
        "    print('Data sent successfully')\n",
        "else:\n",
        "    print('Failed to send data')\n"
      ],
      "metadata": {
        "id": "UmH8VTwulGlP"
      },
      "execution_count": null,
      "outputs": []
    }
  ]
}