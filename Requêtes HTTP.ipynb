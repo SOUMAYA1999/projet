{
  "nbformat": 4,
  "nbformat_minor": 0,
  "metadata": {
    "colab": {
      "provenance": [],
      "authorship_tag": "ABX9TyOqmv4wyUMXnZxbfmPcxhm/",
      "include_colab_link": true
    },
    "kernelspec": {
      "name": "python3",
      "display_name": "Python 3"
    },
    "language_info": {
      "name": "python"
    }
  },
  "cells": [
    {
      "cell_type": "markdown",
      "metadata": {
        "id": "view-in-github",
        "colab_type": "text"
      },
      "source": [
        "<a href=\"https://colab.research.google.com/github/SOUMAYA1999/projet/blob/main/Requ%C3%AAtes%20HTTP.ipynb\" target=\"_parent\"><img src=\"https://colab.research.google.com/assets/colab-badge.svg\" alt=\"Open In Colab\"/></a>"
      ]
    },
    {
      "cell_type": "code",
      "execution_count": null,
      "metadata": {
        "id": "Z-AVTuiMrHwY"
      },
      "outputs": [],
      "source": []
    },
    {
      "cell_type": "markdown",
      "source": [
        "# Schéma : Fonctionnement des Requêtes HTTP et des Réponses"
      ],
      "metadata": {
        "id": "67IFnWEorLvc"
      }
    },
    {
      "cell_type": "markdown",
      "source": [
        "Le schéma montre les étapes simples d'une requête HTTP envoyée par un client (Python avec requests) vers un serveur, et la réponse reçue en retour :"
      ],
      "metadata": {
        "id": "Svi_Fs6ErPs9"
      }
    },
    {
      "cell_type": "code",
      "source": [],
      "metadata": {
        "id": "F8jZvDfNsd7Q"
      },
      "execution_count": null,
      "outputs": []
    },
    {
      "cell_type": "code",
      "source": [
        "  #Client (Python avec `requests`)                  Serveur Web\n",
        "\n",
        "  #+--------------------------------+               +-------------------+\n",
        "  #|                                |               |                   |\n",
        "  #|  1. Crée une requête HTTP      |               |                   |\n",
        "  #|     (GET ou POST)              |   ----------> |                   |\n",
        "  #|                                |               |                   |\n",
        "  #|  2. Envoie la requête          |               |                   |\n",
        "  #|     au serveur                 |               |                   |\n",
        "  #|                                |               |                   |\n",
        "  #|                                |               |                   |\n",
        "  #|                                |               |  3. Le serveur    |\n",
        "  #|                                |               |     traite la     |\n",
        "  #|                                |               |     requête       |\n",
        "  #|                                |               |                   |\n",
        "  #|                                |               |                   |\n",
        "  #|  5. Réception de la réponse    |               |                   |\n",
        "  #|     (code de statut, en-têtes, |  <----------  |                   |\n",
        "  #|     contenu)                   |               |                   |\n",
        "  #|                                |               |                   |\n",
        "  #+--------------------------------+               +-------------------+\n",
        "\n",
        "                    # 4. Le serveur génère une réponse HTTP\n",
        "                     #   (code de statut, en-têtes, contenu)\n"
      ],
      "metadata": {
        "id": "5vP1cFTIsrGu"
      },
      "execution_count": 2,
      "outputs": []
    },
    {
      "cell_type": "markdown",
      "source": [
        "## **Explication du Schéma :**\n",
        "\n",
        "**1. Création de la Requête HTTP :**\n",
        "Le client, en utilisant la bibliothèque requests, prépare une requête HTTP. Cela peut être une requête GET (pour récupérer des données) ou une requête POST (pour envoyer des données).\n",
        "\n",
        "**2. Envoi de la Requête au Serveur :**\n",
        "La requête est envoyée au serveur web via le protocole HTTP.\n",
        "\n",
        "**3. Traitement de la Requête par le Serveur :**\n",
        "Le serveur reçoit la requête, la traite (par exemple, en recherchant des informations dans une base de données), et prépare une réponse.\n",
        "\n",
        "**4.Génération de la Réponse HTTP :**\n",
        "Le serveur génère une réponse HTTP qui contient un code de statut (comme 200 pour succès ou 404 pour non trouvé), des en-têtes (informations sur le type de contenu, par exemple), et le corps de la réponse (le contenu réel, comme du HTML ou des données JSON).\n",
        "\n",
        "**5.Réception de la Réponse par le Client :**\n",
        "Le client reçoit la réponse du serveur. Avec requests, vous pouvez accéder aux différentes parties de la réponse (code de statut, en-têtes, contenu)."
      ],
      "metadata": {
        "id": "DmCYi1KprjLd"
      }
    }
  ]
}